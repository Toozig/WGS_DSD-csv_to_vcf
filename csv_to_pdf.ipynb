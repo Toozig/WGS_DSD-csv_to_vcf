{
 "cells": [
  {
   "cell_type": "code",
   "execution_count": 2,
   "metadata": {},
   "outputs": [
    {
     "name": "stdout",
     "output_type": "stream",
     "text": [
      "INFO: Pandarallel will run on 8 workers.\n",
      "INFO: Pandarallel will use Memory file system to transfer data between the main process and workers.\n"
     ]
    }
   ],
   "source": [
    "import pandas as pd\n",
    "import datetime\n",
    "import concurrent.futures\n",
    "from pandarallel import pandarallel\n",
    "\n",
    "pandarallel.initialize(progress_bar=False)"
   ]
  },
  {
   "cell_type": "code",
   "execution_count": 47,
   "metadata": {},
   "outputs": [],
   "source": [
    "NUM_WORKERS = 8\n",
    "def get_current_date_ddmmyy():\n",
    "    current_date = datetime.datetime.now()\n",
    "    formatted_date = current_date.strftime(\"%d%m%y\")\n",
    "    return formatted_date\n",
    "\n",
    "\n",
    "def create_info_lines(file,col_info_file):\n",
    "    VCF_VERSION ='##fileformat=VCFv4.2'\n",
    "    date = f'##date={get_current_date_ddmmyy()}'\n",
    "    source_file = f'##sourcefile={file}'\n",
    "    ref = '##reference=hg38'\n",
    "    info_s = pd.Series([VCF_VERSION,date,source_file,ref])\n",
    "    info_df = pd.read_csv(col_info_file).replace(' ','.')\n",
    "    info_s = pd.concat([info_s,info_df.apply(\n",
    "        lambda x: f'##{x.type}=<ID={x.ID},Number={x.Number},Type={x.Dtype},Description={x.Description}>',\n",
    "          axis=1)])\n",
    "    return info_s\n",
    "\n",
    "def prepare_sample(df,id):\n",
    "    cols = [f'{id}:GT',f'{id}:DP',f'{id}:GQ',f'{id}:AB']\n",
    "    sample_df =df[cols].copy()\n",
    "    sample_df[f'{id}:GT'] = sample_df[f'{id}:GT'].replace(' ','./.').fillna('./.')\n",
    "    sample_df[[f'{id}:DP',f'{id}:GQ']] = sample_df[[f'{id}:DP',f'{id}:GQ']].fillna(-1).astype(int)\n",
    "    sample_df[f'{id}:AB'] =  sample_df[f'{id}:AB'].replace(0,'.')\n",
    "    sample_df =sample_df.fillna('.').replace(-1,'.')\n",
    "    return sample_df.parallel_apply(lambda x : ':'.join(x.astype(str).tolist()), axis=1).rename(id)\n",
    "\n",
    "def df_to_vcf(file,info_col):\n",
    "    info_df = pd.read_csv(info_col)\n",
    "    df = pd.read_csv(file, low_memory=False)\n",
    "    res_df = pd.DataFrame()\n",
    "    res_df['#CHROM'] = df.CHROM.str.replace('chr','')\n",
    "    res_df['POS'] = df.POS\n",
    "    res_df['ID'] = '.'\n",
    "    res_df['REF'] = df.REF\n",
    "    res_df['ALT'] = df.ALT\n",
    "    res_df['QUAL'] = 0\n",
    "    res_df['FILTER'] = df.FILTER.replace(' ','.')\n",
    "    INFO_cols = info_df[info_df.type == 'INFO'].ID\n",
    "    df.loc[:,INFO_cols] = df[INFO_cols].replace(' ','.').fillna('.')\n",
    "    res_df['INFO'] = df.parallel_apply(lambda x: ';'.join([f'{i}={x[i]}' for i in INFO_cols]),axis=1)\n",
    "    FORMAT_cols = info_df[info_df.type == 'FORMAT'].ID\n",
    "    format = ':'.join(FORMAT_cols.tolist())\n",
    "    res_df['FORMAT'] = format\n",
    "    samples = set([i.split(':')[0] for i in df.columns if ':' in i])\n",
    "\n",
    "    # Create a ThreadPoolExecutor to run the function in parallel\n",
    "    with concurrent.futures.ThreadPoolExecutor(max_workers=NUM_WORKERS) as executor:\n",
    "        # Submit the function for each item in the list\n",
    "        # This starts the parallel execution\n",
    "        futures = [executor.submit(lambda x:prepare_sample(df,x) , id) for id in samples]\n",
    "\n",
    "        # Wait for all tasks to complete and retrieve the results\n",
    "        results = [future.result() for future in concurrent.futures.as_completed(futures)]\n",
    "    sample_df = pd.concat(results, axis=1)\n",
    "    res_df = pd.concat([res_df,sample_df], axis=1)\n",
    "    return res_df\n"
   ]
  },
  {
   "cell_type": "code",
   "execution_count": 49,
   "metadata": {},
   "outputs": [
    {
     "name": "stdout",
     "output_type": "stream",
     "text": [
      "Prepare info\n",
      "Prepare data\n",
      "saving\n",
      "Saved as data/pipeline_outputs/variants_with_layers/2023-09-24-new_sinclair/qualityDSD_variants.vcf\n"
     ]
    }
   ],
   "source": [
    "file = 'data/pipeline_outputs/variants_with_layers/2023-09-24-new_sinclair/qualityDSD_variants.csv'\n",
    "col_info_file = 'cols_info.csv'\n",
    "def main(file, col_info_file, output_name):\n",
    "    print(\"Prepare info\")\n",
    "    info_s =create_info_lines(file, col_info_file)\n",
    "    print(\"Prepare data\")\n",
    "    vcf_df = df_to_vcf(file, col_info_file).T.reset_index().T\n",
    "    output_name = file.replace('csv','vcf').split('/')[-1]\n",
    "    vcf_df = pd.concat([info_s,vcf_df])\n",
    "    print(\"saving\")\n",
    "    vcf_df.to_csv(output_name,sep='\\t',index=False,header=None)\n",
    "    print(f'Saved as {output_name}')\n",
    "main(file, col_info_file)"
   ]
  },
  {
   "cell_type": "code",
   "execution_count": 10,
   "metadata": {},
   "outputs": [
    {
     "data": {
      "text/plain": [
       "Index(['CHROM', 'POS', 'REF', 'ALT', 'FILTER', 'AF', 'AF_popmax', 'GHid',\n",
       "       'GH_is_elite', 'GH_type', 'geneHancer', 'repeatsMasker', 'DSDgenes_1mb',\n",
       "       'DSDgenes_1.5mb', 'distance_from_nearest_DSD_TSS', 'INTERVAL_ID',\n",
       "       'from', 'to', 'length', 'median_DP', 'median_GQ', 'total_probands',\n",
       "       'sinclair_probands', 'AF_sinclair', 'local_AF_overall', 'stringent_AF',\n",
       "       'quality', 'AS22WG001:GT', 'AS22WG001:DP', 'AS22WG001:GQ',\n",
       "       'AS22WG001:AB', 'AS22WG002:GT', 'AS22WG002:DP', 'AS22WG002:GQ',\n",
       "       'AS22WG002:AB', 'AS22WG003:GT', 'AS22WG003:DP', 'AS22WG003:GQ',\n",
       "       'AS22WG003:AB', 'AS22WG004:GT', 'AS22WG004:DP', 'AS22WG004:GQ',\n",
       "       'AS22WG004:AB', 'AS22WG005:GT', 'AS22WG005:DP', 'AS22WG005:GQ',\n",
       "       'AS22WG005:AB', 'AS22WG006:GT', 'AS22WG006:DP', 'AS22WG006:GQ',\n",
       "       'AS22WG006:AB'],\n",
       "      dtype='object')"
      ]
     },
     "execution_count": 10,
     "metadata": {},
     "output_type": "execute_result"
    }
   ],
   "source": [
    "df = pd.read_csv(file)\n",
    "df.columns[:51]"
   ]
  },
  {
   "cell_type": "code",
   "execution_count": 39,
   "metadata": {},
   "outputs": [
    {
     "data": {
      "text/plain": [
       "0         ./.:.:.:.\n",
       "1         ./.:.:.:.\n",
       "2         ./.:.:.:.\n",
       "3         ./.:.:.:.\n",
       "4         ./.:.:.:.\n",
       "            ...    \n",
       "166742    ./.:.:.:.\n",
       "166743    ./.:.:.:.\n",
       "166744    ./.:.:.:.\n",
       "166745    ./.:.:.:.\n",
       "166746    ./.:.:.:.\n",
       "Name: AS23WG023, Length: 166747, dtype: object"
      ]
     },
     "execution_count": 39,
     "metadata": {},
     "output_type": "execute_result"
    }
   ],
   "source": [
    "def prepare_sample(df,id):\n",
    "    cols = [f'{id}:GT',f'{id}:DP',f'{id}:GQ',f'{id}:AB']\n",
    "    sample_df =df[cols].copy()\n",
    "    sample_df[f'{id}:GT'] = sample_df[f'{id}:GT'].replace(' ','./.').fillna('./.')\n",
    "    sample_df[[f'{id}:DP',f'{id}:GQ']] = sample_df[[f'{id}:DP',f'{id}:GQ']].fillna(-1).astype(int)\n",
    "    sample_df[f'{id}:AB'] =  sample_df[f'{id}:AB'].replace(0,'.')\n",
    "    sample_df =sample_df.fillna('.').replace(-1,'.')\n",
    "    return sample_df.parallel_apply(lambda x : ':'.join(x.astype(str).tolist()), axis=1).rename(id)\n",
    "sid = 'AS23WG023'\n",
    "prepare_sample(df,sid)\n",
    "# df[f'{sid}:DP']"
   ]
  },
  {
   "cell_type": "code",
   "execution_count": 21,
   "metadata": {},
   "outputs": [
    {
     "data": {
      "text/plain": [
       "0          \n",
       "1          \n",
       "2          \n",
       "3          \n",
       "4          \n",
       "         ..\n",
       "166742     \n",
       "166743     \n",
       "166744     \n",
       "166745     \n",
       "166746     \n",
       "Name: H7FCVALXX_3_170116_FD02524749_161220:GT, Length: 166747, dtype: object"
      ]
     },
     "execution_count": 21,
     "metadata": {},
     "output_type": "execute_result"
    }
   ],
   "source": [
    "df['H7FCVALXX_3_170116_FD02524749_161220:GT']"
   ]
  },
  {
   "cell_type": "code",
   "execution_count": null,
   "metadata": {},
   "outputs": [],
   "source": []
  }
 ],
 "metadata": {
  "kernelspec": {
   "display_name": "base",
   "language": "python",
   "name": "python3"
  },
  "language_info": {
   "codemirror_mode": {
    "name": "ipython",
    "version": 3
   },
   "file_extension": ".py",
   "mimetype": "text/x-python",
   "name": "python",
   "nbconvert_exporter": "python",
   "pygments_lexer": "ipython3",
   "version": "3.7.3"
  },
  "orig_nbformat": 4
 },
 "nbformat": 4,
 "nbformat_minor": 2
}
